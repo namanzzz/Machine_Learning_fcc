{
  "nbformat": 4,
  "nbformat_minor": 0,
  "metadata": {
    "colab": {
      "provenance": []
    },
    "kernelspec": {
      "name": "python3",
      "display_name": "Python 3"
    },
    "language_info": {
      "name": "python"
    }
  },
  "cells": [
    {
      "cell_type": "code",
      "source": [
        "import tensorflow as tf\n",
        "print(tf.version)"
      ],
      "metadata": {
        "colab": {
          "base_uri": "https://localhost:8080/"
        },
        "id": "X9h-cnwT8yU8",
        "outputId": "db52494b-a940-44fe-b86e-8fc77fc742ee"
      },
      "execution_count": 33,
      "outputs": [
        {
          "output_type": "stream",
          "name": "stdout",
          "text": [
            "<module 'tensorflow._api.v2.version' from '/usr/local/lib/python3.10/dist-packages/tensorflow/_api/v2/version/__init__.py'>\n"
          ]
        }
      ]
    },
    {
      "cell_type": "code",
      "execution_count": 3,
      "metadata": {
        "id": "tnXlrIOD8HZ8"
      },
      "outputs": [],
      "source": [
        "# string = tf.Variable(\"This is a string\", tf.string)\n",
        "# number = tf.Variable(123, tf.int32)\n",
        "# floating = tf.Variable(23.45, tf.float32)"
      ]
    },
    {
      "cell_type": "code",
      "source": [
        "# print(string)\n",
        "# print(number)\n",
        "# print(floating)"
      ],
      "metadata": {
        "colab": {
          "base_uri": "https://localhost:8080/"
        },
        "id": "jqKhXrAU8rsw",
        "outputId": "02928a56-c9c5-4ffb-da62-4d59a5d24b3c"
      },
      "execution_count": 4,
      "outputs": [
        {
          "output_type": "stream",
          "name": "stdout",
          "text": [
            "<tf.Variable 'Variable:0' shape=() dtype=string, numpy=b'This is a string'>\n",
            "<tf.Variable 'Variable:0' shape=() dtype=int32, numpy=123>\n",
            "<tf.Variable 'Variable:0' shape=() dtype=float32, numpy=23.45>\n"
          ]
        }
      ]
    },
    {
      "cell_type": "markdown",
      "source": [
        "Rank or Degree of a tensor"
      ],
      "metadata": {
        "id": "FG-WlWe79Hsu"
      }
    },
    {
      "cell_type": "code",
      "source": [
        "string = tf.Variable(\"This is a string\", tf.string)\n",
        "number = tf.Variable(123, tf.int64)\n",
        "floating = tf.Variable(23.45, tf.float64)"
      ],
      "metadata": {
        "id": "iGTNJrop9Avs"
      },
      "execution_count": 5,
      "outputs": []
    },
    {
      "cell_type": "code",
      "source": [
        "rank1_tensor = tf.Variable([\"naman\",\"how about it\"], tf.string)\n",
        "rank2_tensor = tf.Variable([['1st', '2nd', '3rd'], ['1st', '2nd', '']], tf.string)\n"
      ],
      "metadata": {
        "id": "S5hqRRjz9Omb"
      },
      "execution_count": 15,
      "outputs": []
    },
    {
      "cell_type": "code",
      "source": [
        "# tf.rank(string)\n",
        "tf.rank(rank1_tensor)\n",
        "# tf.rank(rank2_tensor)"
      ],
      "metadata": {
        "colab": {
          "base_uri": "https://localhost:8080/"
        },
        "id": "3n3ercS99lQN",
        "outputId": "42a5857f-39eb-43be-bfd7-9b3f8254cc93"
      },
      "execution_count": 9,
      "outputs": [
        {
          "output_type": "execute_result",
          "data": {
            "text/plain": [
              "<tf.Tensor: shape=(), dtype=int32, numpy=1>"
            ]
          },
          "metadata": {},
          "execution_count": 9
        }
      ]
    },
    {
      "cell_type": "markdown",
      "source": [
        "Shape of a tensor"
      ],
      "metadata": {
        "id": "1FEYw4Qp-dEt"
      }
    },
    {
      "cell_type": "code",
      "source": [
        "string.shape"
      ],
      "metadata": {
        "colab": {
          "base_uri": "https://localhost:8080/"
        },
        "id": "UEAidQvg9v7s",
        "outputId": "1a00779e-64bd-4c7c-9aab-ebac7acb3482"
      },
      "execution_count": 10,
      "outputs": [
        {
          "output_type": "execute_result",
          "data": {
            "text/plain": [
              "TensorShape([])"
            ]
          },
          "metadata": {},
          "execution_count": 10
        }
      ]
    },
    {
      "cell_type": "code",
      "source": [
        "rank1_tensor.shape # one dimensonal tensor so, number of elements is shape"
      ],
      "metadata": {
        "colab": {
          "base_uri": "https://localhost:8080/"
        },
        "id": "qpX91Jtn-nfE",
        "outputId": "105dc9f0-2f54-46f0-fe49-086a456b2aef"
      },
      "execution_count": 11,
      "outputs": [
        {
          "output_type": "execute_result",
          "data": {
            "text/plain": [
              "TensorShape([2])"
            ]
          },
          "metadata": {},
          "execution_count": 11
        }
      ]
    },
    {
      "cell_type": "code",
      "source": [
        "rank2_tensor.shape # two dimensional tensor"
      ],
      "metadata": {
        "colab": {
          "base_uri": "https://localhost:8080/"
        },
        "id": "JDu3_un9-rv9",
        "outputId": "2177c8c1-2ab0-4cd7-f93e-5ad3d9416f77"
      },
      "execution_count": 16,
      "outputs": [
        {
          "output_type": "execute_result",
          "data": {
            "text/plain": [
              "TensorShape([2, 3])"
            ]
          },
          "metadata": {},
          "execution_count": 16
        }
      ]
    },
    {
      "cell_type": "markdown",
      "source": [
        "Changing shapes"
      ],
      "metadata": {
        "id": "mEjtTvIf_9BT"
      }
    },
    {
      "cell_type": "code",
      "source": [
        "tensor1 = tf.ones([1,2,3], tf.int32) # one list, inside that 2 more lists, with each list containing 3 elements\n",
        "tensor2 = tf.reshape(tensor1, [2,3,1])\n",
        "tensor3 = tf.reshape(tensor2, [3,-1]) # three lists, we have 6 elements thus it needs to be\n",
        "# populated by 2 each\n"
      ],
      "metadata": {
        "id": "cCV4BPkn-1Yz"
      },
      "execution_count": 30,
      "outputs": []
    },
    {
      "cell_type": "code",
      "source": [
        "print(tensor1)\n",
        "print(tensor2)\n",
        "print(tensor3)"
      ],
      "metadata": {
        "colab": {
          "base_uri": "https://localhost:8080/"
        },
        "id": "8iRD088pAkDb",
        "outputId": "21b172f5-a089-4743-c49a-7a49b32b4a54"
      },
      "execution_count": 31,
      "outputs": [
        {
          "output_type": "stream",
          "name": "stdout",
          "text": [
            "tf.Tensor(\n",
            "[[[1 1 1]\n",
            "  [1 1 1]]], shape=(1, 2, 3), dtype=int32)\n",
            "tf.Tensor(\n",
            "[[[1]\n",
            "  [1]\n",
            "  [1]]\n",
            "\n",
            " [[1]\n",
            "  [1]\n",
            "  [1]]], shape=(2, 3, 1), dtype=int32)\n",
            "tf.Tensor(\n",
            "[[1 1]\n",
            " [1 1]\n",
            " [1 1]], shape=(3, 2), dtype=int32)\n"
          ]
        }
      ]
    },
    {
      "cell_type": "markdown",
      "source": [
        "**Types of Tensors**"
      ],
      "metadata": {
        "id": "UP0RgrPmC-YA"
      }
    },
    {
      "cell_type": "markdown",
      "source": [
        "\n",
        "\n",
        "1.   Variable - mutable tensor\n",
        "2.   Constant - immutable\n",
        "3.   Placeholder - immutable\n",
        "4.   SparseTensor  - immutable\n",
        "\n"
      ],
      "metadata": {
        "id": "ybBkZKttF99l"
      }
    },
    {
      "cell_type": "code",
      "source": [],
      "metadata": {
        "id": "Sy7ETzS-Bg6I"
      },
      "execution_count": null,
      "outputs": []
    }
  ]
}